{
 "cells": [
  {
   "cell_type": "code",
   "execution_count": 1,
   "id": "c830f1f7",
   "metadata": {},
   "outputs": [
    {
     "data": {
      "text/plain": [
       "True"
      ]
     },
     "execution_count": 1,
     "metadata": {},
     "output_type": "execute_result"
    }
   ],
   "source": [
    "num1=10\n",
    "num2=10\n",
    "num1==num2"
   ]
  },
  {
   "cell_type": "code",
   "execution_count": 2,
   "id": "069327f7",
   "metadata": {},
   "outputs": [
    {
     "data": {
      "text/plain": [
       "True"
      ]
     },
     "execution_count": 2,
     "metadata": {},
     "output_type": "execute_result"
    }
   ],
   "source": [
    "str1=\"aaa\"\n",
    "str2=\"aaa\"\n",
    "str1==str2"
   ]
  },
  {
   "cell_type": "code",
   "execution_count": 3,
   "id": "321d5298",
   "metadata": {},
   "outputs": [],
   "source": [
    "a=[1,2,3]\n",
    "b=[1,2,3]\n",
    "a=b"
   ]
  },
  {
   "cell_type": "code",
   "execution_count": 4,
   "id": "9c7d061f",
   "metadata": {},
   "outputs": [
    {
     "name": "stdout",
     "output_type": "stream",
     "text": [
      "list a is not equal to b\n"
     ]
    }
   ],
   "source": [
    "a=[1,2,3]\n",
    "b=[1,2,4]\n",
    "\n",
    "if a==b:\n",
    "    print(\"list a is equal to b\")\n",
    "else:\n",
    "    print(\"list a is not equal to b\")\n"
   ]
  },
  {
   "cell_type": "code",
   "execution_count": 5,
   "id": "8201abb9",
   "metadata": {},
   "outputs": [
    {
     "name": "stdout",
     "output_type": "stream",
     "text": [
      "4\n",
      "5\n",
      "6\n"
     ]
    }
   ],
   "source": [
    "num1=3\n",
    "\n",
    "while (num1<6):\n",
    "    num1=num1+1\n",
    "    print(num1)\n",
    "    "
   ]
  },
  {
   "cell_type": "code",
   "execution_count": 7,
   "id": "3ff5ea62",
   "metadata": {},
   "outputs": [
    {
     "name": "stdout",
     "output_type": "stream",
     "text": [
      "2\n",
      "4\n",
      "6\n",
      "7\n",
      "9\n",
      "8\n",
      "p\n"
     ]
    }
   ],
   "source": [
    "for val in [2,4,6,7,9,8,\"p\",99,99,98,\"o\"]:\n",
    "    print(val)\n",
    "    if (val==\"p\"):\n",
    "        break\n",
    "    \n",
    "    "
   ]
  },
  {
   "cell_type": "code",
   "execution_count": 9,
   "id": "d25f1443",
   "metadata": {},
   "outputs": [
    {
     "name": "stdout",
     "output_type": "stream",
     "text": [
      "my set no is 2\n",
      "my set no is 4\n",
      "my set no is 6\n",
      "my set no is 7\n",
      "my set no is 9\n",
      "my set no is 8\n",
      "my set no is p\n"
     ]
    }
   ],
   "source": [
    "set=[2,4,6,7,9,8,\"p\",99,99,98,\"o\"]\n",
    "\n",
    "for i in range(0,10,1):\n",
    "    print(\"my set no is\",set[i])\n",
    "    if (set[i]==\"p\"):\n",
    "        break\n",
    "    "
   ]
  },
  {
   "cell_type": "code",
   "execution_count": 10,
   "id": "8290f632",
   "metadata": {},
   "outputs": [
    {
     "name": "stdout",
     "output_type": "stream",
     "text": [
      "1\n",
      "2\n",
      "2\n",
      "3\n",
      "3\n",
      "3\n",
      "4\n",
      "4\n",
      "4\n",
      "4\n",
      "5\n",
      "5\n",
      "5\n",
      "5\n",
      "5\n",
      "6\n",
      "6\n",
      "6\n",
      "6\n",
      "6\n",
      "6\n",
      "7\n",
      "7\n",
      "7\n",
      "7\n",
      "7\n",
      "7\n",
      "7\n",
      "8\n",
      "8\n",
      "8\n",
      "8\n",
      "8\n",
      "8\n",
      "8\n",
      "8\n",
      "9\n",
      "9\n",
      "9\n",
      "9\n",
      "9\n",
      "9\n",
      "9\n",
      "9\n",
      "9\n"
     ]
    }
   ],
   "source": [
    "for i in range(0,10,1):\n",
    "    for j in range(i):\n",
    "        print(i)"
   ]
  },
  {
   "cell_type": "code",
   "execution_count": 11,
   "id": "fd01af99",
   "metadata": {},
   "outputs": [
    {
     "name": "stdout",
     "output_type": "stream",
     "text": [
      "122333444455555666666777777788888888999999999"
     ]
    }
   ],
   "source": [
    "for i in range(0,10,1):\n",
    "    for j in range(i):\n",
    "        print(i,end=\"\")"
   ]
  },
  {
   "cell_type": "code",
   "execution_count": null,
   "id": "73a5d7b4",
   "metadata": {},
   "outputs": [],
   "source": []
  }
 ],
 "metadata": {
  "kernelspec": {
   "display_name": "Python 3 (ipykernel)",
   "language": "python",
   "name": "python3"
  },
  "language_info": {
   "codemirror_mode": {
    "name": "ipython",
    "version": 3
   },
   "file_extension": ".py",
   "mimetype": "text/x-python",
   "name": "python",
   "nbconvert_exporter": "python",
   "pygments_lexer": "ipython3",
   "version": "3.9.13"
  }
 },
 "nbformat": 4,
 "nbformat_minor": 5
}
